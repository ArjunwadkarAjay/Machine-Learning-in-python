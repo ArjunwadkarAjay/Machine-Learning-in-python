{
 "cells": [
  {
   "cell_type": "code",
   "execution_count": 6,
   "metadata": {},
   "outputs": [],
   "source": [
    "from keras.models import load_model\n",
    "from keras.preprocessing.image import img_to_array\n",
    "import numpy as np\n",
    "import cv2\n"
   ]
  },
  {
   "cell_type": "code",
   "execution_count": 7,
   "metadata": {},
   "outputs": [],
   "source": [
    "classifier = load_model('model_v6_23.hdf5')"
   ]
  },
  {
   "cell_type": "code",
   "execution_count": 8,
   "metadata": {},
   "outputs": [
    {
     "name": "stdout",
     "output_type": "stream",
     "text": [
      "Model: \"sequential_11\"\n",
      "_________________________________________________________________\n",
      "Layer (type)                 Output Shape              Param #   \n",
      "=================================================================\n",
      "conv2d_54 (Conv2D)           (None, 46, 46, 32)        320       \n",
      "_________________________________________________________________\n",
      "conv2d_55 (Conv2D)           (None, 44, 44, 64)        18496     \n",
      "_________________________________________________________________\n",
      "max_pooling2d_27 (MaxPooling (None, 22, 22, 64)        0         \n",
      "_________________________________________________________________\n",
      "conv2d_56 (Conv2D)           (None, 20, 20, 128)       73856     \n",
      "_________________________________________________________________\n",
      "max_pooling2d_28 (MaxPooling (None, 10, 10, 128)       0         \n",
      "_________________________________________________________________\n",
      "conv2d_57 (Conv2D)           (None, 8, 8, 128)         147584    \n",
      "_________________________________________________________________\n",
      "max_pooling2d_29 (MaxPooling (None, 4, 4, 128)         0         \n",
      "_________________________________________________________________\n",
      "conv2d_58 (Conv2D)           (None, 4, 4, 7)           903       \n",
      "_________________________________________________________________\n",
      "conv2d_59 (Conv2D)           (None, 1, 1, 7)           791       \n",
      "_________________________________________________________________\n",
      "flatten_10 (Flatten)         (None, 7)                 0         \n",
      "_________________________________________________________________\n",
      "activation_10 (Activation)   (None, 7)                 0         \n",
      "=================================================================\n",
      "Total params: 241,950\n",
      "Trainable params: 241,950\n",
      "Non-trainable params: 0\n",
      "_________________________________________________________________\n"
     ]
    }
   ],
   "source": [
    "classifier.summary()"
   ]
  },
  {
   "cell_type": "code",
   "execution_count": 9,
   "metadata": {},
   "outputs": [],
   "source": [
    "labels={0: 'Angry', 1: 'Disgust', 2: 'Fear', 3: 'Happy', 4: 'Neutral', 5: 'Sad', 6: 'Surprise'}\n",
    "face_cascade=cv2.CascadeClassifier(\"haarcascade_frontalface_default.xml\")\n",
    "cap=cv2.VideoCapture(0)\n",
    "font=cv2.FONT_HERSHEY_SIMPLEX\n",
    "while True:\n",
    "    _,img=cap.read()\n",
    "    gray=cv2.cvtColor(img,cv2.COLOR_BGR2GRAY)\n",
    "    #cv2.imshow(\"image\",img)\n",
    "    faces=face_cascade.detectMultiScale(img,1.1,5)\n",
    "    \n",
    "    for (x,y,w,h) in faces:\n",
    "        cv2.rectangle(img,(x,y),(x+w,y+h),(255,0,0),3)\n",
    "        if len(faces)==0:\n",
    "            text=\"Sorry, No Face Detected\"\n",
    "            img=cv2.putText(img,text,(0,50),font,1,(0,0,255),1,cv2.LINE_AA)\n",
    "        elif len(faces)>1:\n",
    "            text=\"Multiple Faces Detected\"\n",
    "            img=cv2.putText(img,text,(0,50),font,1,(0,0,255),1,cv2.LINE_AA)\n",
    "        else:\n",
    "            roi=img[y:y+h,x:x+w]\n",
    "            roi=cv2.resize(roi,(48,48))\n",
    "            gray=cv2.cvtColor(roi,cv2.COLOR_BGR2GRAY)\n",
    "            roi = gray.astype(\"float\") / 255.0\n",
    "            roi = img_to_array(roi)\n",
    "            roi = np.expand_dims(roi, axis=0)\n",
    "            preds = classifier.predict(roi)[0]\n",
    "            label_img = labels[preds.argmax()] \n",
    "            text=\"Emotion:\"+label_img\n",
    "            #print(preds)\n",
    "            img=cv2.putText(img,text,(x,y-10),font,1,(0,0,255),1,cv2.LINE_AA)\n",
    "    cv2.imshow(\"image\",img)\n",
    "    if cv2.waitKey(1) & 0xFF == 27:\n",
    "        break\n",
    "\n",
    "cap.release()        \n",
    "\n",
    "cv2.destroyWindow(\"image\")\n"
   ]
  }
 ],
 "metadata": {
  "kernelspec": {
   "display_name": "Python 3",
   "language": "python",
   "name": "python3"
  },
  "language_info": {
   "codemirror_mode": {
    "name": "ipython",
    "version": 3
   },
   "file_extension": ".py",
   "mimetype": "text/x-python",
   "name": "python",
   "nbconvert_exporter": "python",
   "pygments_lexer": "ipython3",
   "version": "3.7.6"
  }
 },
 "nbformat": 4,
 "nbformat_minor": 4
}
